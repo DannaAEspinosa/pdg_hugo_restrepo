{
 "cells": [
  {
   "cell_type": "markdown",
   "metadata": {},
   "source": [
    "# Notebook for EDA on Multiple Excel Files\n",
    "\n",
    "This notebook will load, clean, and generate an EDA report for multiple Excel files in the `data/raw` directory.\n",
    "\n",
    "## Step 1: Import necessary modules\n"
   ]
  },
  {
   "cell_type": "code",
   "execution_count": 40,
   "metadata": {},
   "outputs": [],
   "source": [
    "import sys\n",
    "import os\n",
    "\n",
    "\n",
    "# Import the necessary functions\n",
    "from src.data_processing import load_data, clean_data, save_data\n",
    "from src.eda import generate_profile, analyze_with_pandas\n",
    "\n"
   ]
  },
  {
   "cell_type": "markdown",
   "metadata": {},
   "source": [
    "## Step 2: Specify the paths and list the Excel files\n"
   ]
  },
  {
   "cell_type": "code",
   "execution_count": 41,
   "metadata": {},
   "outputs": [
    {
     "data": {
      "text/plain": [
       "['BITRIX - AGRICULTORES ACTIVOS 2023 ACT 10 -2024.xlsx',\n",
       " 'BITRIX - CONTACTOS AGRICULTORES INTERESADOS .xlsx',\n",
       " 'Chemicals_Used_1731593060.xlsx',\n",
       " 'hr_co_farmers_by_depot.xlsx_1731593001.xlsx',\n",
       " 'Profiles_1731593497.xlsx',\n",
       " 'Technicians_Fields_Report_1731593089.xlsx']"
      ]
     },
     "execution_count": 41,
     "metadata": {},
     "output_type": "execute_result"
    }
   ],
   "source": [
    "# Path to the directory containing raw Excel files\n",
    "raw_data_path = \"data/raw\"\n",
    "processed_data_path = \"data/processed\"\n",
    "eda_outputs_path = \"data/eda_outputs\"\n",
    "\n",
    "# List of Excel files in the raw data directory\n",
    "file_names = [f for f in os.listdir(raw_data_path) if f.endswith('.xlsx') or f.endswith('.xls')]\n",
    "\n",
    "# Display the list of files to confirm\n",
    "file_names\n"
   ]
  },
  {
   "cell_type": "markdown",
   "metadata": {},
   "source": [
    "## Step 3: Process each Excel file\n"
   ]
  },
  {
   "cell_type": "code",
   "execution_count": 42,
   "metadata": {},
   "outputs": [
    {
     "name": "stdout",
     "output_type": "stream",
     "text": [
      "Processing BITRIX - AGRICULTORES ACTIVOS 2023 ACT 10 -2024.xlsx...\n"
     ]
    },
    {
     "name": "stderr",
     "output_type": "stream",
     "text": [
      "c:\\Users\\danna\\OneDrive\\Escritorio\\pdg\\pdg_hugo_restrepo\\env\\Lib\\site-packages\\openpyxl\\reader\\workbook.py:118: UserWarning: Print area cannot be set to Defined name: 'AGRICULTORES ACTIVOS '!$I:$AO.\n",
      "  warn(f\"Print area cannot be set to Defined name: {defn.value}.\")\n"
     ]
    },
    {
     "data": {
      "application/vnd.jupyter.widget-view+json": {
       "model_id": "9d687c48a9234062aad3687aaf282e13",
       "version_major": 2,
       "version_minor": 0
      },
      "text/plain": [
       "Summarize dataset:   0%|          | 0/5 [00:00<?, ?it/s]"
      ]
     },
     "metadata": {},
     "output_type": "display_data"
    },
    {
     "data": {
      "application/vnd.jupyter.widget-view+json": {
       "model_id": "2af1a8b541d44ec5b62551352cf0672b",
       "version_major": 2,
       "version_minor": 0
      },
      "text/plain": [
       "Generate report structure:   0%|          | 0/1 [00:00<?, ?it/s]"
      ]
     },
     "metadata": {},
     "output_type": "display_data"
    },
    {
     "data": {
      "application/vnd.jupyter.widget-view+json": {
       "model_id": "e78b0daed12749a59dad156a9400feef",
       "version_major": 2,
       "version_minor": 0
      },
      "text/plain": [
       "Render HTML:   0%|          | 0/1 [00:00<?, ?it/s]"
      ]
     },
     "metadata": {},
     "output_type": "display_data"
    },
    {
     "data": {
      "application/vnd.jupyter.widget-view+json": {
       "model_id": "4588250ed1794af5b3516bd85246efc5",
       "version_major": 2,
       "version_minor": 0
      },
      "text/plain": [
       "Export report to file:   0%|          | 0/1 [00:00<?, ?it/s]"
      ]
     },
     "metadata": {},
     "output_type": "display_data"
    },
    {
     "name": "stdout",
     "output_type": "stream",
     "text": [
      "Initial EDA report saved to data/eda_outputs\\BITRIX - AGRICULTORES ACTIVOS 2023 ACT 10 -2024_initial_eda_report.html\n",
      "Before cleaning: (449, 42)\n",
      "Saved: data/processed/duplicated_rows.csv\n",
      "Saved: data/processed/null_rows.csv\n",
      "After cleaning: (0, 42)\n",
      "DataFrame is empty. Cannot generate EDA report after cleaning.\n",
      "General overview:\n",
      "<class 'pandas.core.frame.DataFrame'>\n",
      "Index: 0 entries\n",
      "Data columns (total 42 columns):\n",
      " #   Column                                        Non-Null Count  Dtype \n",
      "---  ------                                        --------------  ----- \n",
      " 0   FECHA                                         0 non-null      object\n",
      " 1   Cantidad Agricultores                         0 non-null      int64 \n",
      " 2   NUMERO DE SBS                                 0 non-null      object\n",
      " 3   NOTAS MILEIDY                                 0 non-null      object\n",
      " 4   ENVIAR INF. AGRICULTOR NUEVO POR WS Y CORREO  0 non-null      object\n",
      " 5   FACTURADOR ELECTRONICO                        0 non-null      object\n",
      " 6   ENVIADO A CORREOS:                            0 non-null      object\n",
      " 7   ACTIVOS                                       0 non-null      object\n",
      " 8   Código Agricultor                             0 non-null      object\n",
      " 9   EMPRESA                                       0 non-null      object\n",
      " 10  PRIMER NOMBRE                                 0 non-null      object\n",
      " 11  SEGUNDO NOMBRE                                0 non-null      object\n",
      " 12  PRIMER APELLIDO                               0 non-null      object\n",
      " 13  SEGUNDO APELLIDO                              0 non-null      object\n",
      " 14  CEDULA                                        0 non-null      object\n",
      " 15  IDENTIFICACION  EN EL REGISTRO DEL CONTRATO   0 non-null      object\n",
      " 16  RUT                                           0 non-null      object\n",
      " 17  CORREO ELECTRONICO                            0 non-null      object\n",
      " 18  CONTACTO                                      0 non-null      object\n",
      " 19  CELULAR                                       0 non-null      object\n",
      " 20  Ciudad/Pueblo                                 0 non-null      object\n",
      " 21  Departamento                                  0 non-null      object\n",
      " 22  Técnico Agrícola                              0 non-null      object\n",
      " 23  ESTACIÓN DE MOLIENDA                          0 non-null      object\n",
      " 24  VARIEDAD                                      0 non-null      object\n",
      " 25  HECTAREAS                                     0 non-null      object\n",
      " 26  CONTRATO                                      0 non-null      object\n",
      " 27  Código Cultivo                                0 non-null      object\n",
      " 28  Registrado Completo APPSICUM                  0 non-null      object\n",
      " 29  FIRMA Agricultor y Gerencia                   0 non-null      object\n",
      " 30  COPIA CC                                      0 non-null      object\n",
      " 31  RUT.1                                         0 non-null      object\n",
      " 32  CERTIFICADO TRADICCION PREDIO - SNR           0 non-null      object\n",
      " 33  CONTRATO DE ARRENDAMIENTO                     0 non-null      object\n",
      " 34  CERTIFICACION BANCARIA                        0 non-null      object\n",
      " 35  OFAC                                          0 non-null      object\n",
      " 36  SI                                            0 non-null      object\n",
      " 37  NO                                            0 non-null      object\n",
      " 38  PAGARE                                        0 non-null      object\n",
      " 39  CARTA INSTR                                   0 non-null      object\n",
      " 40  OBSERVACIONES de ADMINISTRACIÓN               0 non-null      object\n",
      " 41  OBSERVACIONES de PROYECTOS                    0 non-null      object\n",
      "dtypes: int64(1), object(41)\n",
      "memory usage: 0.0+ bytes\n",
      "None\n",
      "\n",
      "Statistical description:\n",
      "       Cantidad Agricultores\n",
      "count                    0.0\n",
      "mean                     NaN\n",
      "std                      NaN\n",
      "min                      NaN\n",
      "25%                      NaN\n",
      "50%                      NaN\n",
      "75%                      NaN\n",
      "max                      NaN\n",
      "\n",
      "Null value distribution:\n",
      "FECHA                                           0\n",
      "Cantidad Agricultores                           0\n",
      "NUMERO DE SBS                                   0\n",
      "NOTAS MILEIDY                                   0\n",
      "ENVIAR INF. AGRICULTOR NUEVO POR WS Y CORREO    0\n",
      "FACTURADOR ELECTRONICO                          0\n",
      "ENVIADO A CORREOS:                              0\n",
      "ACTIVOS                                         0\n",
      "Código Agricultor                               0\n",
      "EMPRESA                                         0\n",
      "PRIMER NOMBRE                                   0\n",
      "SEGUNDO NOMBRE                                  0\n",
      "PRIMER APELLIDO                                 0\n",
      "SEGUNDO APELLIDO                                0\n",
      "CEDULA                                          0\n",
      "IDENTIFICACION  EN EL REGISTRO DEL CONTRATO     0\n",
      "RUT                                             0\n",
      "CORREO ELECTRONICO                              0\n",
      "CONTACTO                                        0\n",
      "CELULAR                                         0\n",
      "Ciudad/Pueblo                                   0\n",
      "Departamento                                    0\n",
      "Técnico Agrícola                                0\n",
      "ESTACIÓN DE MOLIENDA                            0\n",
      "VARIEDAD                                        0\n",
      "HECTAREAS                                       0\n",
      "CONTRATO                                        0\n",
      "Código Cultivo                                  0\n",
      "Registrado Completo APPSICUM                    0\n",
      "FIRMA Agricultor y Gerencia                     0\n",
      "COPIA CC                                        0\n",
      "RUT.1                                           0\n",
      "CERTIFICADO TRADICCION PREDIO - SNR             0\n",
      "CONTRATO DE ARRENDAMIENTO                       0\n",
      "CERTIFICACION BANCARIA                          0\n",
      "OFAC                                            0\n",
      "SI                                              0\n",
      "NO                                              0\n",
      "PAGARE                                          0\n",
      "CARTA INSTR                                     0\n",
      "OBSERVACIONES de ADMINISTRACIÓN                 0\n",
      "OBSERVACIONES de PROYECTOS                      0\n",
      "dtype: int64\n",
      "\n",
      "Unique values per column:\n",
      "FECHA: 0 unique values\n",
      "Cantidad Agricultores: 0 unique values\n",
      "NUMERO DE SBS : 0 unique values\n",
      "NOTAS MILEIDY : 0 unique values\n",
      "ENVIAR INF. AGRICULTOR NUEVO POR WS Y CORREO: 0 unique values\n",
      "FACTURADOR ELECTRONICO : 0 unique values\n",
      "ENVIADO A CORREOS: : 0 unique values\n",
      "ACTIVOS : 0 unique values\n",
      "Código Agricultor: 0 unique values\n",
      "EMPRESA : 0 unique values\n",
      "PRIMER NOMBRE : 0 unique values\n",
      "SEGUNDO NOMBRE : 0 unique values\n",
      "PRIMER APELLIDO : 0 unique values\n",
      "SEGUNDO APELLIDO : 0 unique values\n",
      "CEDULA : 0 unique values\n",
      "IDENTIFICACION  EN EL REGISTRO DEL CONTRATO: 0 unique values\n",
      "RUT: 0 unique values\n",
      "CORREO ELECTRONICO : 0 unique values\n",
      "CONTACTO: 0 unique values\n",
      "CELULAR : 0 unique values\n",
      "Ciudad/Pueblo: 0 unique values\n",
      "Departamento: 0 unique values\n",
      "Técnico Agrícola: 0 unique values\n",
      "ESTACIÓN DE MOLIENDA: 0 unique values\n",
      "VARIEDAD : 0 unique values\n",
      "HECTAREAS : 0 unique values\n",
      "CONTRATO: 0 unique values\n",
      "Código Cultivo: 0 unique values\n",
      "Registrado Completo APPSICUM: 0 unique values\n",
      "FIRMA Agricultor y Gerencia: 0 unique values\n",
      "COPIA CC: 0 unique values\n",
      "RUT.1: 0 unique values\n",
      "CERTIFICADO TRADICCION PREDIO - SNR: 0 unique values\n",
      "CONTRATO DE ARRENDAMIENTO: 0 unique values\n",
      "CERTIFICACION BANCARIA: 0 unique values\n",
      "OFAC: 0 unique values\n",
      "SI: 0 unique values\n",
      "NO: 0 unique values\n",
      "PAGARE: 0 unique values\n",
      "CARTA INSTR: 0 unique values\n",
      "OBSERVACIONES de ADMINISTRACIÓN: 0 unique values\n",
      "OBSERVACIONES de PROYECTOS: 0 unique values\n",
      "Processing BITRIX - CONTACTOS AGRICULTORES INTERESADOS .xlsx...\n"
     ]
    },
    {
     "name": "stderr",
     "output_type": "stream",
     "text": [
      "c:\\Users\\danna\\OneDrive\\Escritorio\\pdg\\pdg_hugo_restrepo\\env\\Lib\\site-packages\\openpyxl\\worksheet\\_reader.py:329: UserWarning: Data Validation extension is not supported and will be removed\n",
      "  warn(msg)\n"
     ]
    },
    {
     "data": {
      "application/vnd.jupyter.widget-view+json": {
       "model_id": "0568e38a46fd40568b68bf7ccd52c72b",
       "version_major": 2,
       "version_minor": 0
      },
      "text/plain": [
       "Summarize dataset:   0%|          | 0/5 [00:00<?, ?it/s]"
      ]
     },
     "metadata": {},
     "output_type": "display_data"
    },
    {
     "data": {
      "application/vnd.jupyter.widget-view+json": {
       "model_id": "1fa4ee5ac19d4795b202125699170919",
       "version_major": 2,
       "version_minor": 0
      },
      "text/plain": [
       "Generate report structure:   0%|          | 0/1 [00:00<?, ?it/s]"
      ]
     },
     "metadata": {},
     "output_type": "display_data"
    },
    {
     "data": {
      "application/vnd.jupyter.widget-view+json": {
       "model_id": "fc7b87aa3b3d470b82d81c4404d07e45",
       "version_major": 2,
       "version_minor": 0
      },
      "text/plain": [
       "Render HTML:   0%|          | 0/1 [00:00<?, ?it/s]"
      ]
     },
     "metadata": {},
     "output_type": "display_data"
    },
    {
     "data": {
      "application/vnd.jupyter.widget-view+json": {
       "model_id": "808d8b785da742d994caeb0de8a36f05",
       "version_major": 2,
       "version_minor": 0
      },
      "text/plain": [
       "Export report to file:   0%|          | 0/1 [00:00<?, ?it/s]"
      ]
     },
     "metadata": {},
     "output_type": "display_data"
    },
    {
     "name": "stdout",
     "output_type": "stream",
     "text": [
      "Initial EDA report saved to data/eda_outputs\\BITRIX - CONTACTOS AGRICULTORES INTERESADOS _initial_eda_report.html\n",
      "Before cleaning: (367, 25)\n",
      "Saved: data/processed/duplicated_rows.csv\n",
      "Saved: data/processed/null_rows.csv\n",
      "After cleaning: (0, 25)\n",
      "DataFrame is empty. Cannot generate EDA report after cleaning.\n",
      "General overview:\n",
      "<class 'pandas.core.frame.DataFrame'>\n",
      "Index: 0 entries\n",
      "Data columns (total 25 columns):\n",
      " #   Column                                    Non-Null Count  Dtype         \n",
      "---  ------                                    --------------  -----         \n",
      " 0   NUMERO                                    0 non-null      object        \n",
      " 1   MEDIO DE CONTACTO                         0 non-null      object        \n",
      " 2   FECHA                                     0 non-null      datetime64[ns]\n",
      " 3   NOMBRES Y APELLIDOS                       0 non-null      object        \n",
      " 4   TELEFONO                                  0 non-null      object        \n",
      " 5   CORREO                                    0 non-null      object        \n",
      " 6   MUNICIPIO DE LA FINCA                     0 non-null      object        \n",
      " 7   DEPARTAMENTO                              0 non-null      object        \n",
      " 8   AREA DISPONIBLE DE SIEMBRA - HECTAREA     0 non-null      object        \n",
      " 9   ACTUALMENTE TIENE  CULTIVO Y DE QUE       0 non-null      object        \n",
      " 10  ES AGRICULTOR?                            0 non-null      object        \n",
      " 11  INDEPENDIENTE O HACE PARTE DE ASOCIACIÓN  0 non-null      object        \n",
      " 12  NOMBRE ASOCIACIÓN Y DETALLES              0 non-null      object        \n",
      " 13  ALTURA DE LAS AREAS PARA EL AJÍ           0 non-null      object        \n",
      " 14  EXPERIENCIA EN SIEMBRA DE AJÍ             0 non-null      object        \n",
      " 15  CULTIVOS DE AJÍ EN LA ZONA O MUNICIPIO    0 non-null      object        \n",
      " 16  FUENTES DE AGUA EN LA FINCA               0 non-null      float64       \n",
      " 17  MANO DE OBRA DISPONIBLE                   0 non-null      float64       \n",
      " 18  TECNICO ASIGNADO                          0 non-null      object        \n",
      " 19  Fecha de Enviado al Técnico               0 non-null      datetime64[ns]\n",
      " 20  OBSERVACION SI SE CONTACTO O NO           0 non-null      object        \n",
      " 21  OBSERVACIONES DE CONTACTO  Técnicos       0 non-null      object        \n",
      " 22  OBSERVACION DE MILEIDY                    0 non-null      object        \n",
      " 23  WEBINAR                                   0 non-null      object        \n",
      " 24  PARTICIPÓ EN EL WEBINAR                   0 non-null      object        \n",
      "dtypes: datetime64[ns](2), float64(2), object(21)\n",
      "memory usage: 0.0+ bytes\n",
      "None\n",
      "\n",
      "Statistical description:\n",
      "      FECHA   FUENTES DE AGUA EN LA FINCA  MANO DE OBRA DISPONIBLE  \\\n",
      "count      0                          0.0                      0.0   \n",
      "mean     NaT                          NaN                      NaN   \n",
      "min      NaT                          NaN                      NaN   \n",
      "25%      NaT                          NaN                      NaN   \n",
      "50%      NaT                          NaN                      NaN   \n",
      "75%      NaT                          NaN                      NaN   \n",
      "max      NaT                          NaN                      NaN   \n",
      "std      NaN                          NaN                      NaN   \n",
      "\n",
      "      Fecha de Enviado al Técnico  \n",
      "count                           0  \n",
      "mean                          NaT  \n",
      "min                           NaT  \n",
      "25%                           NaT  \n",
      "50%                           NaT  \n",
      "75%                           NaT  \n",
      "max                           NaT  \n",
      "std                           NaN  \n",
      "\n",
      "Null value distribution:\n",
      "NUMERO                                      0\n",
      "MEDIO DE CONTACTO                           0\n",
      "FECHA                                       0\n",
      "NOMBRES Y APELLIDOS                         0\n",
      "TELEFONO                                    0\n",
      "CORREO                                      0\n",
      "MUNICIPIO DE LA FINCA                       0\n",
      "DEPARTAMENTO                                0\n",
      "AREA DISPONIBLE DE SIEMBRA - HECTAREA       0\n",
      "ACTUALMENTE TIENE  CULTIVO Y DE QUE         0\n",
      "ES AGRICULTOR?                              0\n",
      "INDEPENDIENTE O HACE PARTE DE ASOCIACIÓN    0\n",
      "NOMBRE ASOCIACIÓN Y DETALLES                0\n",
      "ALTURA DE LAS AREAS PARA EL AJÍ             0\n",
      "EXPERIENCIA EN SIEMBRA DE AJÍ               0\n",
      "CULTIVOS DE AJÍ EN LA ZONA O MUNICIPIO      0\n",
      "FUENTES DE AGUA EN LA FINCA                 0\n",
      "MANO DE OBRA DISPONIBLE                     0\n",
      "TECNICO ASIGNADO                            0\n",
      "Fecha de Enviado al Técnico                 0\n",
      "OBSERVACION SI SE CONTACTO O NO             0\n",
      "OBSERVACIONES DE CONTACTO  Técnicos         0\n",
      "OBSERVACION DE MILEIDY                      0\n",
      "WEBINAR                                     0\n",
      "PARTICIPÓ EN EL WEBINAR                     0\n",
      "dtype: int64\n",
      "\n",
      "Unique values per column:\n",
      "NUMERO: 0 unique values\n",
      "MEDIO DE CONTACTO : 0 unique values\n",
      "FECHA : 0 unique values\n",
      "NOMBRES Y APELLIDOS : 0 unique values\n",
      "TELEFONO : 0 unique values\n",
      "CORREO: 0 unique values\n",
      "MUNICIPIO DE LA FINCA : 0 unique values\n",
      "DEPARTAMENTO : 0 unique values\n",
      "AREA DISPONIBLE DE SIEMBRA - HECTAREA : 0 unique values\n",
      "ACTUALMENTE TIENE  CULTIVO Y DE QUE : 0 unique values\n",
      "ES AGRICULTOR?: 0 unique values\n",
      "INDEPENDIENTE O HACE PARTE DE ASOCIACIÓN: 0 unique values\n",
      "NOMBRE ASOCIACIÓN Y DETALLES: 0 unique values\n",
      "ALTURA DE LAS AREAS PARA EL AJÍ: 0 unique values\n",
      "EXPERIENCIA EN SIEMBRA DE AJÍ: 0 unique values\n",
      "CULTIVOS DE AJÍ EN LA ZONA O MUNICIPIO: 0 unique values\n",
      "FUENTES DE AGUA EN LA FINCA: 0 unique values\n",
      "MANO DE OBRA DISPONIBLE: 0 unique values\n",
      "TECNICO ASIGNADO : 0 unique values\n",
      "Fecha de Enviado al Técnico: 0 unique values\n",
      "OBSERVACION SI SE CONTACTO O NO : 0 unique values\n",
      "OBSERVACIONES DE CONTACTO  Técnicos: 0 unique values\n",
      "OBSERVACION DE MILEIDY : 0 unique values\n",
      "WEBINAR: 0 unique values\n",
      "PARTICIPÓ EN EL WEBINAR: 0 unique values\n",
      "Processing Chemicals_Used_1731593060.xlsx...\n"
     ]
    },
    {
     "data": {
      "application/vnd.jupyter.widget-view+json": {
       "model_id": "6284f94d23614272af9028131d59bb12",
       "version_major": 2,
       "version_minor": 0
      },
      "text/plain": [
       "Summarize dataset:   0%|          | 0/5 [00:00<?, ?it/s]"
      ]
     },
     "metadata": {},
     "output_type": "display_data"
    },
    {
     "data": {
      "application/vnd.jupyter.widget-view+json": {
       "model_id": "523bbc3299ca4428be6b62fb88136506",
       "version_major": 2,
       "version_minor": 0
      },
      "text/plain": [
       "Generate report structure:   0%|          | 0/1 [00:00<?, ?it/s]"
      ]
     },
     "metadata": {},
     "output_type": "display_data"
    },
    {
     "data": {
      "application/vnd.jupyter.widget-view+json": {
       "model_id": "5549d6c79f3a43ad8100f5454030abd7",
       "version_major": 2,
       "version_minor": 0
      },
      "text/plain": [
       "Render HTML:   0%|          | 0/1 [00:00<?, ?it/s]"
      ]
     },
     "metadata": {},
     "output_type": "display_data"
    },
    {
     "data": {
      "application/vnd.jupyter.widget-view+json": {
       "model_id": "0ca26729e4e645739a41690d2aedc0b0",
       "version_major": 2,
       "version_minor": 0
      },
      "text/plain": [
       "Export report to file:   0%|          | 0/1 [00:00<?, ?it/s]"
      ]
     },
     "metadata": {},
     "output_type": "display_data"
    },
    {
     "name": "stdout",
     "output_type": "stream",
     "text": [
      "Initial EDA report saved to data/eda_outputs\\Chemicals_Used_1731593060_initial_eda_report.html\n",
      "Before cleaning: (1026, 7)\n",
      "Saved: data/processed/duplicated_rows.csv\n",
      "Saved: data/processed/null_rows.csv\n",
      "After cleaning: (193, 7)\n",
      "Saved: data/processed/Chemicals_Used_1731593060.csv\n",
      "Cleaned data saved to data/processed\\Chemicals_Used_1731593060.csv\n",
      "                    Farmer                    Field Crop  Field Agent  \\\n",
      "126  Cristina Vidal Huetio  Habanero Rojo (0.4 Hectares)  Andres Pino   \n",
      "127    Dilve Maria Velasco  Habanero Rojo (0.4 Hectares)  Andres Pino   \n",
      "128    Dilve Maria Velasco  Habanero Rojo (0.4 Hectares)  Andres Pino   \n",
      "157  Yuli Constanza Vargas  Habanero Rojo (0.5 Hectares)  Andres Pino   \n",
      "158  Yuli Constanza Vargas  Habanero Rojo (0.5 Hectares)  Andres Pino   \n",
      "\n",
      "              Type                                              Pest  \\\n",
      "126   Insecticidas                     Crisomelidos  -  Epitrix spp.   \n",
      "127   Insecticidas                     Crisomelidos  -  Epitrix spp.   \n",
      "128  Fertilizantes  ABONO QUIMICO GRANULADO GRADO 17-6-18-2 CAFETERO   \n",
      "157  Fertilizantes  ABONO QUIMICO GRANULADO GRADO 17-6-18-2 CAFETERO   \n",
      "158     Fungicidas                                 Puccinia pampeana   \n",
      "\n",
      "                               Active Ingredient: Dose Field Code  \n",
      "126        Alfa Cipermetrina     10 EC:300 - 500 cc/ha        000  \n",
      "127        Alfa Cipermetrina     10 EC:300 - 500 cc/ha        000  \n",
      "128  De acuerdo al Analísisde De Suelos y Plan de N...        000  \n",
      "157  De acuerdo al Analísisde De Suelos y Plan de N...        000  \n",
      "158  Tebuconazole + Triadimenol EC 22,5% + 7,5%:0,5...        000  \n",
      "Number of rows in cleaned DataFrame: 193\n"
     ]
    },
    {
     "data": {
      "application/vnd.jupyter.widget-view+json": {
       "model_id": "2bada3220b9d45a9a082bc98ddfed27d",
       "version_major": 2,
       "version_minor": 0
      },
      "text/plain": [
       "Summarize dataset:   0%|          | 0/5 [00:00<?, ?it/s]"
      ]
     },
     "metadata": {},
     "output_type": "display_data"
    },
    {
     "data": {
      "application/vnd.jupyter.widget-view+json": {
       "model_id": "97c41f10cebf4f40900b4cb994c7f2cd",
       "version_major": 2,
       "version_minor": 0
      },
      "text/plain": [
       "Generate report structure:   0%|          | 0/1 [00:00<?, ?it/s]"
      ]
     },
     "metadata": {},
     "output_type": "display_data"
    },
    {
     "data": {
      "application/vnd.jupyter.widget-view+json": {
       "model_id": "f89cd9183b65423cb08cf4e7d15ec665",
       "version_major": 2,
       "version_minor": 0
      },
      "text/plain": [
       "Render HTML:   0%|          | 0/1 [00:00<?, ?it/s]"
      ]
     },
     "metadata": {},
     "output_type": "display_data"
    },
    {
     "data": {
      "application/vnd.jupyter.widget-view+json": {
       "model_id": "ba6fe9f084864fcc92264ac528362a85",
       "version_major": 2,
       "version_minor": 0
      },
      "text/plain": [
       "Export report to file:   0%|          | 0/1 [00:00<?, ?it/s]"
      ]
     },
     "metadata": {},
     "output_type": "display_data"
    },
    {
     "name": "stdout",
     "output_type": "stream",
     "text": [
      "Cleaned EDA report saved to data/eda_outputs\\Chemicals_Used_1731593060_cleaned_eda_report.html\n",
      "General overview:\n",
      "<class 'pandas.core.frame.DataFrame'>\n",
      "Index: 193 entries, 126 to 1025\n",
      "Data columns (total 7 columns):\n",
      " #   Column                   Non-Null Count  Dtype \n",
      "---  ------                   --------------  ----- \n",
      " 0   Farmer                   193 non-null    object\n",
      " 1   Field Crop               193 non-null    object\n",
      " 2   Field Agent              193 non-null    object\n",
      " 3   Type                     193 non-null    object\n",
      " 4   Pest                     193 non-null    object\n",
      " 5   Active Ingredient: Dose  193 non-null    object\n",
      " 6   Field Code               193 non-null    object\n",
      "dtypes: object(7)\n",
      "memory usage: 12.1+ KB\n",
      "None\n",
      "\n",
      "Statistical description:\n",
      "                       Farmer                    Field Crop  Field Agent  \\\n",
      "count                     193                           193          193   \n",
      "unique                     45                            30            6   \n",
      "top     Cristina Vidal Huetio  Habanero Rojo (0.4 Hectares)  Andres Pino   \n",
      "freq                       13                            33           79   \n",
      "\n",
      "                 Type            Pest  \\\n",
      "count             193             193   \n",
      "unique              7              57   \n",
      "top     Fertilizantes  Altenaria spp.   \n",
      "freq               81              19   \n",
      "\n",
      "                                  Active Ingredient: Dose Field Code  \n",
      "count                                                 193        193  \n",
      "unique                                                 58         12  \n",
      "top     De acuerdo al Analísisde De Suelos y Plan de N...        000  \n",
      "freq                                                   18        100  \n",
      "\n",
      "Null value distribution:\n",
      "Farmer                     0\n",
      "Field Crop                 0\n",
      "Field Agent                0\n",
      "Type                       0\n",
      "Pest                       0\n",
      "Active Ingredient: Dose    0\n",
      "Field Code                 0\n",
      "dtype: int64\n",
      "\n",
      "Unique values per column:\n",
      "Farmer: 45 unique values\n",
      "Field Crop: 30 unique values\n",
      "Field Agent: 6 unique values\n",
      "Type: 7 unique values\n",
      "Pest: 57 unique values\n",
      "Active Ingredient: Dose: 58 unique values\n",
      "Field Code: 12 unique values\n",
      "Processing hr_co_farmers_by_depot.xlsx_1731593001.xlsx...\n"
     ]
    },
    {
     "data": {
      "application/vnd.jupyter.widget-view+json": {
       "model_id": "423ade4cbd7b435ab6356f91e3b12908",
       "version_major": 2,
       "version_minor": 0
      },
      "text/plain": [
       "Summarize dataset:   0%|          | 0/5 [00:00<?, ?it/s]"
      ]
     },
     "metadata": {},
     "output_type": "display_data"
    },
    {
     "data": {
      "application/vnd.jupyter.widget-view+json": {
       "model_id": "d170d6fef28e48ae9245354407c0b04a",
       "version_major": 2,
       "version_minor": 0
      },
      "text/plain": [
       "Generate report structure:   0%|          | 0/1 [00:00<?, ?it/s]"
      ]
     },
     "metadata": {},
     "output_type": "display_data"
    },
    {
     "data": {
      "application/vnd.jupyter.widget-view+json": {
       "model_id": "ca9fef49ce954c0a931421db5b538fb4",
       "version_major": 2,
       "version_minor": 0
      },
      "text/plain": [
       "Render HTML:   0%|          | 0/1 [00:00<?, ?it/s]"
      ]
     },
     "metadata": {},
     "output_type": "display_data"
    },
    {
     "data": {
      "application/vnd.jupyter.widget-view+json": {
       "model_id": "aa14de3936b847cd858127366dcafeff",
       "version_major": 2,
       "version_minor": 0
      },
      "text/plain": [
       "Export report to file:   0%|          | 0/1 [00:00<?, ?it/s]"
      ]
     },
     "metadata": {},
     "output_type": "display_data"
    },
    {
     "name": "stdout",
     "output_type": "stream",
     "text": [
      "Initial EDA report saved to data/eda_outputs\\hr_co_farmers_by_depot.xlsx_1731593001_initial_eda_report.html\n",
      "Before cleaning: (195, 6)\n",
      "Saved: data/processed/duplicated_rows.csv\n",
      "Saved: data/processed/null_rows.csv\n",
      "After cleaning: (56, 6)\n",
      "Saved: data/processed/hr_co_farmers_by_depot.csv_1731593001.csv\n",
      "Cleaned data saved to data/processed\\hr_co_farmers_by_depot.csv_1731593001.csv\n",
      "   Grinding Station                        Farmer Agricultural Technician  \\\n",
      "7      Planta Yumbo  Agropecuaria El Nilo El Nilo          Walter Meneses   \n",
      "8      Planta Yumbo  Agropecuaria El Nilo El Nilo         Gustavo Escobar   \n",
      "10           Asopep                 Aldemar Devia      Abel Antonio  Ipuz   \n",
      "15         La Selva     Ana Maria  Salinas Zapata    Edilberto Muñoz Leon   \n",
      "19           Asopep                        Asopep      Abel Antonio  Ipuz   \n",
      "\n",
      "    Variety           Region Field Code  \n",
      "7    Cayena  Valle del Cauca       1111  \n",
      "8    Cayena  Valle del Cauca        111  \n",
      "10  Tabasco           Tolima        988  \n",
      "15   Cayena  Valle del Cauca       996A  \n",
      "19  Tabasco           Tolima        988  \n",
      "Number of rows in cleaned DataFrame: 56\n"
     ]
    },
    {
     "data": {
      "application/vnd.jupyter.widget-view+json": {
       "model_id": "98e93347e057476b97b797157e2eb094",
       "version_major": 2,
       "version_minor": 0
      },
      "text/plain": [
       "Summarize dataset:   0%|          | 0/5 [00:00<?, ?it/s]"
      ]
     },
     "metadata": {},
     "output_type": "display_data"
    },
    {
     "data": {
      "application/vnd.jupyter.widget-view+json": {
       "model_id": "ad31d0363ce745ae89de3f0aaf7f1edd",
       "version_major": 2,
       "version_minor": 0
      },
      "text/plain": [
       "Generate report structure:   0%|          | 0/1 [00:00<?, ?it/s]"
      ]
     },
     "metadata": {},
     "output_type": "display_data"
    },
    {
     "data": {
      "application/vnd.jupyter.widget-view+json": {
       "model_id": "8585d6ee286746d1b905a7fc819d9003",
       "version_major": 2,
       "version_minor": 0
      },
      "text/plain": [
       "Render HTML:   0%|          | 0/1 [00:00<?, ?it/s]"
      ]
     },
     "metadata": {},
     "output_type": "display_data"
    },
    {
     "data": {
      "application/vnd.jupyter.widget-view+json": {
       "model_id": "3d8be0577c32420582fe7b8797de8dc0",
       "version_major": 2,
       "version_minor": 0
      },
      "text/plain": [
       "Export report to file:   0%|          | 0/1 [00:00<?, ?it/s]"
      ]
     },
     "metadata": {},
     "output_type": "display_data"
    },
    {
     "name": "stdout",
     "output_type": "stream",
     "text": [
      "Cleaned EDA report saved to data/eda_outputs\\hr_co_farmers_by_depot.xlsx_1731593001_cleaned_eda_report.html\n",
      "General overview:\n",
      "<class 'pandas.core.frame.DataFrame'>\n",
      "Index: 56 entries, 7 to 193\n",
      "Data columns (total 6 columns):\n",
      " #   Column                   Non-Null Count  Dtype \n",
      "---  ------                   --------------  ----- \n",
      " 0   Grinding Station         56 non-null     object\n",
      " 1   Farmer                   56 non-null     object\n",
      " 2   Agricultural Technician  56 non-null     object\n",
      " 3   Variety                  56 non-null     object\n",
      " 4   Region                   56 non-null     object\n",
      " 5   Field Code               56 non-null     object\n",
      "dtypes: object(6)\n",
      "memory usage: 3.1+ KB\n",
      "None\n",
      "\n",
      "Statistical description:\n",
      "       Grinding Station                               Farmer  \\\n",
      "count                56                                   56   \n",
      "unique               23                                   48   \n",
      "top              Asopep  Cristhian David Santacoloma Vasquez   \n",
      "freq                 13                                    3   \n",
      "\n",
      "       Agricultural Technician  Variety           Region Field Code  \n",
      "count                       56       56               56         56  \n",
      "unique                       7        8                6         17  \n",
      "top            Gustavo Escobar  Tabasco  Valle del Cauca        000  \n",
      "freq                        14       23               20         26  \n",
      "\n",
      "Null value distribution:\n",
      "Grinding Station           0\n",
      "Farmer                     0\n",
      "Agricultural Technician    0\n",
      "Variety                    0\n",
      "Region                     0\n",
      "Field Code                 0\n",
      "dtype: int64\n",
      "\n",
      "Unique values per column:\n",
      "Grinding Station: 23 unique values\n",
      "Farmer: 48 unique values\n",
      "Agricultural Technician: 7 unique values\n",
      "Variety: 8 unique values\n",
      "Region: 6 unique values\n",
      "Field Code: 17 unique values\n",
      "Processing Profiles_1731593497.xlsx...\n"
     ]
    },
    {
     "data": {
      "application/vnd.jupyter.widget-view+json": {
       "model_id": "122f4334ba604646a4d26fec3a145a87",
       "version_major": 2,
       "version_minor": 0
      },
      "text/plain": [
       "Summarize dataset:   0%|          | 0/5 [00:00<?, ?it/s]"
      ]
     },
     "metadata": {},
     "output_type": "display_data"
    },
    {
     "data": {
      "application/vnd.jupyter.widget-view+json": {
       "model_id": "3d67d858d60e471b95649b07333c3b93",
       "version_major": 2,
       "version_minor": 0
      },
      "text/plain": [
       "Generate report structure:   0%|          | 0/1 [00:00<?, ?it/s]"
      ]
     },
     "metadata": {},
     "output_type": "display_data"
    },
    {
     "data": {
      "application/vnd.jupyter.widget-view+json": {
       "model_id": "4ac47cec09fe4f36999aa4555af1ab26",
       "version_major": 2,
       "version_minor": 0
      },
      "text/plain": [
       "Render HTML:   0%|          | 0/1 [00:00<?, ?it/s]"
      ]
     },
     "metadata": {},
     "output_type": "display_data"
    },
    {
     "data": {
      "application/vnd.jupyter.widget-view+json": {
       "model_id": "3a3d9803a5fa4cd1b22c213716463be5",
       "version_major": 2,
       "version_minor": 0
      },
      "text/plain": [
       "Export report to file:   0%|          | 0/1 [00:00<?, ?it/s]"
      ]
     },
     "metadata": {},
     "output_type": "display_data"
    },
    {
     "name": "stdout",
     "output_type": "stream",
     "text": [
      "Initial EDA report saved to data/eda_outputs\\Profiles_1731593497_initial_eda_report.html\n",
      "Before cleaning: (425, 6)\n",
      "Saved: data/processed/null_rows.csv\n",
      "After cleaning: (111, 6)\n",
      "Saved: data/processed/Profiles_1731593497.csv\n",
      "Cleaned data saved to data/processed\\Profiles_1731593497.csv\n",
      "  Created At    Identifier                          Name     Telephone  \\\n",
      "0 2024-10-30  573123456789               Ali Rio  Avila   3.123457e+09   \n",
      "1 2024-10-30  573017755918             Luzmila  Ramirez   3.017756e+09   \n",
      "6 2024-10-19  573166942791  Diego Fernando Trivino Mejia  3.166943e+09   \n",
      "7 2024-10-15  573152964667  Duliex G  Maestre Izquierdo   3.152965e+09   \n",
      "8 2024-10-15  573006458573    Jenito J Herrera Contreras  3.006459e+09   \n",
      "\n",
      "   Gender                            Location  \n",
      "0    Male         Caña dulce, Piendamo, Cauca  \n",
      "1  Female         Caña dulce, Piendamo, Cauca  \n",
      "6    Male  Ricaute, Bolivar, VALLE DEL CAUCA   \n",
      "7    Male     Antiguos 2, Pueblo bello, Cesar  \n",
      "8    Male         Iracal, Pueblo bello, Cesar  \n",
      "Number of rows in cleaned DataFrame: 111\n"
     ]
    },
    {
     "data": {
      "application/vnd.jupyter.widget-view+json": {
       "model_id": "a4084170d70649c990962aa01ca6bcbb",
       "version_major": 2,
       "version_minor": 0
      },
      "text/plain": [
       "Summarize dataset:   0%|          | 0/5 [00:00<?, ?it/s]"
      ]
     },
     "metadata": {},
     "output_type": "display_data"
    },
    {
     "data": {
      "application/vnd.jupyter.widget-view+json": {
       "model_id": "a3941f85372146ba90e69061c257723c",
       "version_major": 2,
       "version_minor": 0
      },
      "text/plain": [
       "Generate report structure:   0%|          | 0/1 [00:00<?, ?it/s]"
      ]
     },
     "metadata": {},
     "output_type": "display_data"
    },
    {
     "data": {
      "application/vnd.jupyter.widget-view+json": {
       "model_id": "ebe40ce5ec77402d84cc1261884d1c89",
       "version_major": 2,
       "version_minor": 0
      },
      "text/plain": [
       "Render HTML:   0%|          | 0/1 [00:00<?, ?it/s]"
      ]
     },
     "metadata": {},
     "output_type": "display_data"
    },
    {
     "data": {
      "application/vnd.jupyter.widget-view+json": {
       "model_id": "2dd050afd56a48d48e52edf16056a43a",
       "version_major": 2,
       "version_minor": 0
      },
      "text/plain": [
       "Export report to file:   0%|          | 0/1 [00:00<?, ?it/s]"
      ]
     },
     "metadata": {},
     "output_type": "display_data"
    },
    {
     "name": "stdout",
     "output_type": "stream",
     "text": [
      "Cleaned EDA report saved to data/eda_outputs\\Profiles_1731593497_cleaned_eda_report.html\n",
      "General overview:\n",
      "<class 'pandas.core.frame.DataFrame'>\n",
      "Index: 111 entries, 0 to 424\n",
      "Data columns (total 6 columns):\n",
      " #   Column      Non-Null Count  Dtype         \n",
      "---  ------      --------------  -----         \n",
      " 0   Created At  111 non-null    datetime64[ns]\n",
      " 1   Identifier  111 non-null    object        \n",
      " 2   Name        111 non-null    object        \n",
      " 3   Telephone   111 non-null    float64       \n",
      " 4   Gender      111 non-null    object        \n",
      " 5   Location    111 non-null    object        \n",
      "dtypes: datetime64[ns](1), float64(1), object(4)\n",
      "memory usage: 10.1+ KB\n",
      "None\n",
      "\n",
      "Statistical description:\n",
      "                          Created At     Telephone\n",
      "count                            111  1.110000e+02\n",
      "mean   2023-10-01 16:12:58.378378496  3.201973e+09\n",
      "min              2021-03-09 00:00:00  6.423011e+08\n",
      "25%              2023-03-02 00:00:00  3.103643e+09\n",
      "50%              2023-10-30 00:00:00  3.146104e+09\n",
      "75%              2024-05-06 00:00:00  3.177472e+09\n",
      "max              2024-10-30 00:00:00  7.167964e+09\n",
      "std                              NaN  5.987289e+08\n",
      "\n",
      "Null value distribution:\n",
      "Created At    0\n",
      "Identifier    0\n",
      "Name          0\n",
      "Telephone     0\n",
      "Gender        0\n",
      "Location      0\n",
      "dtype: int64\n",
      "\n",
      "Unique values per column:\n",
      "Created At: 53 unique values\n",
      "Identifier: 106 unique values\n",
      "Name: 111 unique values\n",
      "Telephone: 104 unique values\n",
      "Gender: 2 unique values\n",
      "Location: 77 unique values\n",
      "Processing Technicians_Fields_Report_1731593089.xlsx...\n"
     ]
    },
    {
     "data": {
      "application/vnd.jupyter.widget-view+json": {
       "model_id": "a771c55b14e941ccb8d9524a20ac29cf",
       "version_major": 2,
       "version_minor": 0
      },
      "text/plain": [
       "Summarize dataset:   0%|          | 0/5 [00:00<?, ?it/s]"
      ]
     },
     "metadata": {},
     "output_type": "display_data"
    },
    {
     "data": {
      "application/vnd.jupyter.widget-view+json": {
       "model_id": "fdbf2baf332c433698c15861edd454dd",
       "version_major": 2,
       "version_minor": 0
      },
      "text/plain": [
       "Generate report structure:   0%|          | 0/1 [00:00<?, ?it/s]"
      ]
     },
     "metadata": {},
     "output_type": "display_data"
    },
    {
     "data": {
      "application/vnd.jupyter.widget-view+json": {
       "model_id": "b40884a9b54e47d18946291d13475db8",
       "version_major": 2,
       "version_minor": 0
      },
      "text/plain": [
       "Render HTML:   0%|          | 0/1 [00:00<?, ?it/s]"
      ]
     },
     "metadata": {},
     "output_type": "display_data"
    },
    {
     "data": {
      "application/vnd.jupyter.widget-view+json": {
       "model_id": "5f76cf6537e74d6895cf77de2a23b2e9",
       "version_major": 2,
       "version_minor": 0
      },
      "text/plain": [
       "Export report to file:   0%|          | 0/1 [00:00<?, ?it/s]"
      ]
     },
     "metadata": {},
     "output_type": "display_data"
    },
    {
     "name": "stdout",
     "output_type": "stream",
     "text": [
      "Initial EDA report saved to data/eda_outputs\\Technicians_Fields_Report_1731593089_initial_eda_report.html\n",
      "Before cleaning: (361, 8)\n",
      "Saved: data/processed/duplicated_rows.csv\n",
      "Saved: data/processed/null_rows.csv\n",
      "After cleaning: (74, 8)\n",
      "Saved: data/processed/Technicians_Fields_Report_1731593089.csv\n",
      "Cleaned data saved to data/processed\\Technicians_Fields_Report_1731593089.csv\n",
      "    Agricultural Technician                 Farmer Field Code Contract Number  \\\n",
      "96          Gustavo Escobar         Oswaldo Pulido    CR1002A       T-14-2023   \n",
      "112           Jhon Castillo  Victor Barrera Medina    CR1029A       H-19-2023   \n",
      "118           Jhon Castillo            Cenaida Coy    CR1021A       H-11-2023   \n",
      "120      Abel Antonio  Ipuz         Cesar Alvarado    CR1017A       C-32-2023   \n",
      "121      Abel Antonio  Ipuz      Evaristo Velazco     CR1038A       H-23-2023   \n",
      "\n",
      "     Field(Variety with Hectares)  Days after Transplant  Visits  \\\n",
      "96         Tabasco (0.2 Hectares)                    149       2   \n",
      "112  Habanero Rojo (0.5 Hectares)                     76       3   \n",
      "118  Habanero Rojo (0.5 Hectares)                     76       3   \n",
      "120           Cayena (2 Hectares)                     55       2   \n",
      "121    Habanero Rojo (1 Hectares)                    -43       2   \n",
      "\n",
      "                          Phase of Crop  \n",
      "96   FASE 1 - DISEÑO Y PREPARACION LOTE  \n",
      "112    FASE 2 - PLANTULAS Y TRANSPLANTE  \n",
      "118    FASE 2 - PLANTULAS Y TRANSPLANTE  \n",
      "120  FASE 1 - DISEÑO Y PREPARACION LOTE  \n",
      "121  FASE 1 - DISEÑO Y PREPARACION LOTE  \n",
      "Number of rows in cleaned DataFrame: 74\n"
     ]
    },
    {
     "data": {
      "application/vnd.jupyter.widget-view+json": {
       "model_id": "cdd7911674ba4882a7fbd39de08cd7f5",
       "version_major": 2,
       "version_minor": 0
      },
      "text/plain": [
       "Summarize dataset:   0%|          | 0/5 [00:00<?, ?it/s]"
      ]
     },
     "metadata": {},
     "output_type": "display_data"
    },
    {
     "data": {
      "application/vnd.jupyter.widget-view+json": {
       "model_id": "1bed2c02077945e48d8f17359e8f885b",
       "version_major": 2,
       "version_minor": 0
      },
      "text/plain": [
       "Generate report structure:   0%|          | 0/1 [00:00<?, ?it/s]"
      ]
     },
     "metadata": {},
     "output_type": "display_data"
    },
    {
     "data": {
      "application/vnd.jupyter.widget-view+json": {
       "model_id": "b76eeb82307c40fe860bcdb919026ce1",
       "version_major": 2,
       "version_minor": 0
      },
      "text/plain": [
       "Render HTML:   0%|          | 0/1 [00:00<?, ?it/s]"
      ]
     },
     "metadata": {},
     "output_type": "display_data"
    },
    {
     "data": {
      "application/vnd.jupyter.widget-view+json": {
       "model_id": "5ab6bf65c2c04fb2802570e1f14bfd5d",
       "version_major": 2,
       "version_minor": 0
      },
      "text/plain": [
       "Export report to file:   0%|          | 0/1 [00:00<?, ?it/s]"
      ]
     },
     "metadata": {},
     "output_type": "display_data"
    },
    {
     "name": "stdout",
     "output_type": "stream",
     "text": [
      "Cleaned EDA report saved to data/eda_outputs\\Technicians_Fields_Report_1731593089_cleaned_eda_report.html\n",
      "General overview:\n",
      "<class 'pandas.core.frame.DataFrame'>\n",
      "Index: 74 entries, 96 to 358\n",
      "Data columns (total 8 columns):\n",
      " #   Column                        Non-Null Count  Dtype \n",
      "---  ------                        --------------  ----- \n",
      " 0   Agricultural Technician       74 non-null     object\n",
      " 1   Farmer                        74 non-null     object\n",
      " 2   Field Code                    74 non-null     object\n",
      " 3   Contract Number               74 non-null     object\n",
      " 4   Field(Variety with Hectares)  74 non-null     object\n",
      " 5   Days after Transplant         74 non-null     int64 \n",
      " 6   Visits                        74 non-null     int64 \n",
      " 7   Phase of Crop                 74 non-null     object\n",
      "dtypes: int64(2), object(6)\n",
      "memory usage: 7.3+ KB\n",
      "None\n",
      "\n",
      "Statistical description:\n",
      "       Days after Transplant     Visits\n",
      "count              74.000000  74.000000\n",
      "mean              182.216216   3.716216\n",
      "std               164.221140   3.228810\n",
      "min               -43.000000   1.000000\n",
      "25%                70.250000   2.000000\n",
      "50%               148.000000   3.000000\n",
      "75%               262.250000   4.000000\n",
      "max               887.000000  19.000000\n",
      "\n",
      "Null value distribution:\n",
      "Agricultural Technician         0\n",
      "Farmer                          0\n",
      "Field Code                      0\n",
      "Contract Number                 0\n",
      "Field(Variety with Hectares)    0\n",
      "Days after Transplant           0\n",
      "Visits                          0\n",
      "Phase of Crop                   0\n",
      "dtype: int64\n",
      "\n",
      "Unique values per column:\n",
      "Agricultural Technician: 10 unique values\n",
      "Farmer: 67 unique values\n",
      "Field Code: 35 unique values\n",
      "Contract Number: 37 unique values\n",
      "Field(Variety with Hectares): 38 unique values\n",
      "Days after Transplant: 61 unique values\n",
      "Visits: 12 unique values\n",
      "Phase of Crop: 3 unique values\n"
     ]
    }
   ],
   "source": [
    "# Process each Excel file\n",
    "for file_name in file_names:\n",
    "    file_path = os.path.join(raw_data_path, file_name)\n",
    "    print(f\"Processing {file_name}...\")\n",
    "\n",
    "    # Load the Excel data and specify the sheet name if needed\n",
    "    df = load_data(file_path, sheet_name=0)  # Change sheet_name as needed\n",
    "\n",
    "    # Keep all columns in the original DataFrame\n",
    "    original_columns = df.columns.tolist()\n",
    "\n",
    "    # Generate and save the initial EDA report before cleaning\n",
    "    initial_report_file_path = os.path.join(eda_outputs_path, f\"{os.path.splitext(file_name)[0]}_initial_eda_report.html\")\n",
    "    generate_profile(df, initial_report_file_path)\n",
    "    print(f\"Initial EDA report saved to {initial_report_file_path}\")\n",
    "\n",
    "    # Clean the data without dropping any columns\n",
    "    print(\"Before cleaning:\", df.shape)\n",
    "    df_cleaned = clean_data(df)\n",
    "    print(\"After cleaning:\", df_cleaned.shape)\n",
    "\n",
    "    # Check if the DataFrame is empty after cleaning\n",
    "    if not df_cleaned.empty:\n",
    "        # Save the cleaned DataFrame to the processed folder\n",
    "        cleaned_file_path = os.path.join(processed_data_path, file_name.replace('.xlsx', '.csv').replace('.xls', '.csv'))\n",
    "        save_data(df_cleaned, processed_data_path, file_name.replace('.xlsx', '.csv').replace('.xls', '.csv'))\n",
    "        print(f\"Cleaned data saved to {cleaned_file_path}\")\n",
    "\n",
    "        print(df_cleaned.head())\n",
    "        print(f\"Number of rows in cleaned DataFrame: {len(df_cleaned)}\")\n",
    "\n",
    "        # Generate and save the EDA report after cleaning\n",
    "        cleaned_report_file_path = os.path.join(eda_outputs_path, f\"{os.path.splitext(file_name)[0]}_cleaned_eda_report.html\")\n",
    "        generate_profile(df_cleaned, cleaned_report_file_path)\n",
    "        print(f\"Cleaned EDA report saved to {cleaned_report_file_path}\")\n",
    "    else:\n",
    "        print(\"DataFrame is empty. Cannot generate EDA report after cleaning.\")\n",
    "\n",
    "    # Complement the analysis with pandas\n",
    "    analyze_with_pandas(df_cleaned)\n"
   ]
  }
 ],
 "metadata": {
  "kernelspec": {
   "display_name": "env",
   "language": "python",
   "name": "python3"
  },
  "language_info": {
   "codemirror_mode": {
    "name": "ipython",
    "version": 3
   },
   "file_extension": ".py",
   "mimetype": "text/x-python",
   "name": "python",
   "nbconvert_exporter": "python",
   "pygments_lexer": "ipython3",
   "version": "3.11.8"
  }
 },
 "nbformat": 4,
 "nbformat_minor": 4
}
